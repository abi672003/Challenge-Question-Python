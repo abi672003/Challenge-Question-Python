{
  "nbformat": 4,
  "nbformat_minor": 0,
  "metadata": {
    "colab": {
      "provenance": [],
      "authorship_tag": "ABX9TyNWDueiCStJJpzJzGq3hpid",
      "include_colab_link": true
    },
    "kernelspec": {
      "name": "python3",
      "display_name": "Python 3"
    },
    "language_info": {
      "name": "python"
    }
  },
  "cells": [
    {
      "cell_type": "markdown",
      "metadata": {
        "id": "view-in-github",
        "colab_type": "text"
      },
      "source": [
        "<a href=\"https://colab.research.google.com/github/abi672003/Challenge-Question-Python/blob/main/challenge_que_python.ipynb\" target=\"_parent\"><img src=\"https://colab.research.google.com/assets/colab-badge.svg\" alt=\"Open In Colab\"/></a>"
      ]
    },
    {
      "cell_type": "markdown",
      "source": [
        "**CHALLENGE QUESTION**"
      ],
      "metadata": {
        "id": "ZOXMBb9BIk6V"
      }
    },
    {
      "cell_type": "code",
      "execution_count": 1,
      "metadata": {
        "colab": {
          "base_uri": "https://localhost:8080/"
        },
        "id": "O4hAXAuHIkKp",
        "outputId": "5180f625-6abe-4774-a07c-cd8c22ec3b29"
      },
      "outputs": [
        {
          "output_type": "stream",
          "name": "stdout",
          "text": [
            "The original list : ['Ram', 1, 'Shyam', 2, 'Aman', 3]\n",
            "List after mixed sorting : [1, 2, 3, 'Aman', 'Ram', 'Shyam']\n"
          ]
        }
      ],
      "source": [
        "# comparator function for sort\n",
        "def mixs(num):\n",
        "    try:\n",
        "        ele = int(num)\n",
        "        return (0, ele, '')\n",
        "    except ValueError:\n",
        "        return (1, num, '')\n",
        "\n",
        "\n",
        "# initialize list\n",
        "L = [\"Ram\", 1, \"Shyam\", 2, \"Aman\", 3]\n",
        "\n",
        "# printing original list\n",
        "print(\"The original list : \" + str(L))\n",
        "\n",
        "# Sort Mixed List\n",
        "# using sort() + comparator\n",
        "L.sort(key = mixs)\n",
        "\n",
        "# printing result\n",
        "print(\"List after mixed sorting : \" + str(L))"
      ]
    }
  ]
}